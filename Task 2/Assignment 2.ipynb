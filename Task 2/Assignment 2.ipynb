{
 "cells": [
  {
   "cell_type": "markdown",
   "id": "891fb9ba",
   "metadata": {},
   "source": [
    "**Assignment 2 Solution**"
   ]
  },
  {
   "cell_type": "markdown",
   "id": "2ba5fa1e",
   "metadata": {},
   "source": [
    "**Project 1**"
   ]
  },
  {
   "cell_type": "code",
   "execution_count": 1,
   "id": "041e2410",
   "metadata": {},
   "outputs": [
    {
     "name": "stdout",
     "output_type": "stream",
     "text": [
      "tags must be of type list.\n",
      "\n",
      "\n",
      "age must be of type int.\n"
     ]
    }
   ],
   "source": [
    "class ValidType:\n",
    "    def __init__(self, type_):\n",
    "        self.type_ = type_\n",
    "\n",
    "    def __set_name__(self, owner, name):\n",
    "        self.name = name\n",
    "\n",
    "    def __set__(self, instance, value):\n",
    "        if not isinstance(value, self.type_):\n",
    "            raise ValueError(f\"{self.name} must be of type {self.type_.__name__}.\")\n",
    "        instance.__dict__[self.name] = value\n",
    "\n",
    "    def __get__(self, instance, owner):\n",
    "        return instance.__dict__.get(self.name, None)\n",
    "\n",
    "\n",
    "class Int(ValidType):\n",
    "    def __init__(self):\n",
    "        super().__init__(int)\n",
    "\n",
    "\n",
    "class Float(ValidType):\n",
    "    def __init__(self):\n",
    "        super().__init__(float)\n",
    "\n",
    "\n",
    "class List(ValidType):\n",
    "    def __init__(self):\n",
    "        super().__init__(list)\n",
    "        \n",
    "\n",
    "class Person:\n",
    "    age = Int()\n",
    "    height = Float()\n",
    "    tags = List()\n",
    "    favorite_foods = List()\n",
    "    name = ValidType(str)\n",
    "\n",
    "    def __init__(self, age, height, tags, favorite_foods, name):\n",
    "        self.age = age\n",
    "        self.height = height\n",
    "        self.tags = tags\n",
    "        self.favorite_foods = favorite_foods\n",
    "        self.name = name\n",
    "\n",
    "\n",
    "try:\n",
    "    person1 = Person(25, 6.1, 'happy', ['pizza', 'burger'], \"Ann\")\n",
    "except ValueError as e:\n",
    "    print(e)\n",
    "\n",
    "print('\\n')\n",
    "\n",
    "try:\n",
    "    person2 = Person(\"30\", 5.8, ['energetic'], ('sushi', 'steak'), \"Caroline\")\n",
    "except ValueError as e:\n",
    "    print(e)"
   ]
  },
  {
   "cell_type": "markdown",
   "id": "466f2b68",
   "metadata": {},
   "source": [
    "**Project 2**"
   ]
  },
  {
   "cell_type": "code",
   "execution_count": 2,
   "id": "c35a2342",
   "metadata": {},
   "outputs": [
    {
     "name": "stdout",
     "output_type": "stream",
     "text": [
      "(<__main__.Point2D object at 0x1040ece50>, <__main__.Point2D object at 0x1040ef250>, <__main__.Point2D object at 0x1040ee6e0>) /n\n",
      "(<__main__.Point2D object at 0x1040edcf0>, <__main__.Point2D object at 0x1040ef310>, <__main__.Point2D object at 0x1040edf90>, <__main__.Point2D object at 0x1040eeb90>, <__main__.Point2D object at 0x1040eed40>, <__main__.Point2D object at 0x1040eeda0>) /n\n"
     ]
    }
   ],
   "source": [
    "class Int:\n",
    "    def __init__(self, min_value=None, max_value=None):\n",
    "        self.min_value = min_value\n",
    "        self.max_value = max_value\n",
    "\n",
    "    def __set_name__(self, owner, name):\n",
    "        self.name = name\n",
    "\n",
    "    def __set__(self, instance, value):\n",
    "        if not isinstance(value, int):\n",
    "            raise ValueError(f\"{self.name} must be an integer.\")\n",
    "        if self.min_value is not None and value < self.min_value:\n",
    "            raise ValueError(f\"{self.name} must be greater than or equal to {self.min_value}.\")\n",
    "        if self.max_value is not None and value > self.max_value:\n",
    "            raise ValueError(f\"{self.name} must be less than or equal to {self.max_value}.\")\n",
    "        instance.__dict__[self.name] = value\n",
    "\n",
    "    def __get__(self, instance, owner):\n",
    "        return instance.__dict__.get(self.name, None)\n",
    "\n",
    "\n",
    "class Point2D:\n",
    "    x = Int(min_value=0)\n",
    "    y = Int(min_value=0)\n",
    "\n",
    "    def __init__(self, x, y):\n",
    "        self.x = x\n",
    "        self.y = y\n",
    "\n",
    "\n",
    "class Point2DSequence:\n",
    "    def __init__(self, min_length=None, max_length=None):\n",
    "        self.min_length = min_length\n",
    "        self.max_length = max_length\n",
    "\n",
    "    def __set_name__(self, owner, name):\n",
    "        self.name = name\n",
    "\n",
    "    def __set__(self, instance, value):\n",
    "        if not isinstance(value, (list, tuple)):\n",
    "            raise ValueError(f\"{self.name} must be a list or tuple.\")\n",
    "        for point in value:\n",
    "            if not isinstance(point, Point2D):\n",
    "                raise ValueError(f\"All elements in {self.name} must be Point2D instances.\")\n",
    "        if self.min_length is not None and len(value) < self.min_length:\n",
    "            raise ValueError(f\"{self.name} must have at least {self.min_length} elements.\")\n",
    "        if self.max_length is not None and len(value) > self.max_length:\n",
    "            raise ValueError(f\"{self.name} can have at most {self.max_length} elements.\")\n",
    "        instance.__dict__[self.name] = value\n",
    "\n",
    "    def __get__(self, instance, owner):\n",
    "        return instance.__dict__.get(self.name, None)\n",
    "\n",
    "\n",
    "class Polygon:\n",
    "    vertices = Point2DSequence(min_length=3, max_length=10)\n",
    "\n",
    "    def __init__(self, *vertices):\n",
    "        self.vertices = vertices\n",
    "\n",
    "    def append(self, point):\n",
    "        if len(self.vertices) >= 10:\n",
    "            raise ValueError(\"Cannot add more vertices. Maximum length limit reached.\")\n",
    "        self.vertices.append(point)\n",
    "        \n",
    "\n",
    "# Create Polygon instances with different number of vertices\n",
    "polygon1 = Polygon(Point2D(0, 0), Point2D(1, 1), Point2D(2, 2))  # Triangle\n",
    "polygon2 = Polygon(Point2D(0, 0), Point2D(1, 1), Point2D(2, 2), Point2D(3, 3), Point2D(4, 4), Point2D(5, 5))  # Hexagon\n",
    "\n",
    "print(polygon1.vertices, \"/n\")\n",
    "print(polygon2.vertices, \"/n\")"
   ]
  },
  {
   "cell_type": "code",
   "execution_count": null,
   "id": "a28567a3",
   "metadata": {},
   "outputs": [],
   "source": []
  }
 ],
 "metadata": {
  "kernelspec": {
   "display_name": "Python 3 (ipykernel)",
   "language": "python",
   "name": "python3"
  },
  "language_info": {
   "codemirror_mode": {
    "name": "ipython",
    "version": 3
   },
   "file_extension": ".py",
   "mimetype": "text/x-python",
   "name": "python",
   "nbconvert_exporter": "python",
   "pygments_lexer": "ipython3",
   "version": "3.10.9"
  }
 },
 "nbformat": 4,
 "nbformat_minor": 5
}
