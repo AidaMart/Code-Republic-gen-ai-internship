{
 "cells": [
  {
   "cell_type": "markdown",
   "id": "73923790",
   "metadata": {},
   "source": [
    " **Client Side**"
   ]
  },
  {
   "cell_type": "code",
   "execution_count": 1,
   "id": "1d114b69",
   "metadata": {},
   "outputs": [],
   "source": [
    "# importing the necessary libraries\n",
    "\n",
    "import asyncio\n",
    "import websockets\n",
    "import aioconsole"
   ]
  },
  {
   "cell_type": "code",
   "execution_count": null,
   "id": "edbeb0ac",
   "metadata": {},
   "outputs": [],
   "source": [
    "async def handle_message(websocket):\n",
    "    try:\n",
    "        async for message in websocket:\n",
    "            print(f\"{message}\")\n",
    "\n",
    "    except websockets.ConnectionClosedError:\n",
    "        print(\"Connection to the server is closed.\")\n",
    "\n",
    "async def send_message(websocket, name):\n",
    "    while True:\n",
    "        message = await aioconsole.ainput(\" \")\n",
    "        await websocket.send(f\"{message}\")\n",
    "\n",
    "async def main():\n",
    "    name = input(\"Enter your name: \")\n",
    "    async with websockets.connect(\"ws://localhost:8765\") as websocket:\n",
    "        # send the client name as the first message\n",
    "        await websocket.send(name)\n",
    "        print(\"Successfully connected to the server.\")\n",
    "        try:\n",
    "            await asyncio.gather(handle_message(websocket), send_message(websocket, name))\n",
    "        except websockets.ConnectionClosedError:\n",
    "            print(\"Connection to the server is closed.\")\n",
    "            \n",
    "# run the server\n",
    "asyncio.get_event_loop().run_until_complete(main())"
   ]
  }
 ],
 "metadata": {
  "kernelspec": {
   "display_name": "Python 3 (ipykernel)",
   "language": "python",
   "name": "python3"
  },
  "language_info": {
   "codemirror_mode": {
    "name": "ipython",
    "version": 3
   },
   "file_extension": ".py",
   "mimetype": "text/x-python",
   "name": "python",
   "nbconvert_exporter": "python",
   "pygments_lexer": "ipython3",
   "version": "3.10.9"
  }
 },
 "nbformat": 4,
 "nbformat_minor": 5
}
