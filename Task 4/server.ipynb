{
 "cells": [
  {
   "cell_type": "markdown",
   "id": "4f611a11",
   "metadata": {},
   "source": [
    " **Server Side**"
   ]
  },
  {
   "cell_type": "code",
   "execution_count": 1,
   "id": "81be7864",
   "metadata": {},
   "outputs": [],
   "source": [
    "# import the necessary libraries\n",
    "\n",
    "import asyncio\n",
    "import websockets\n",
    "from datetime import datetime"
   ]
  },
  {
   "cell_type": "code",
   "execution_count": null,
   "id": "652e7dbc",
   "metadata": {},
   "outputs": [],
   "source": [
    "# keep connected clients and their names\n",
    "connected_clients = {}\n",
    "\n",
    "async def handle_message(websocket, path):\n",
    "    try:\n",
    "        # Expecting the first message to be the client's name\n",
    "        name = await websocket.recv()\n",
    "        connected_clients[websocket] = name\n",
    "        print(f\"New client '{name}' connected. Total clients: {len(connected_clients)}\")\n",
    "\n",
    "        async for message in websocket:\n",
    "            timestamp = datetime.now().strftime(\"%Y-%m-%d %H:%M:%S\")\n",
    "            # check if the message is a private message or it should be sent to all clients\n",
    "            if message.startswith(\"DM\") or message.startswith(\"dm\"):\n",
    "                _, recipient_name, private_msg = message.split(\" \", 2)\n",
    "                for client, client_name in connected_clients.items():\n",
    "                    if client_name == recipient_name:\n",
    "                        await client.send(f\"Private message from {name} at {timestamp}: {private_msg}\")\n",
    "                        break\n",
    "            else:\n",
    "                # broadcast the message to all clients except the sender\n",
    "                sender_name = connected_clients[websocket]\n",
    "                formatted_message = f\"{timestamp} - {sender_name}: {message}\"\n",
    "                \n",
    "                for client, client_name in connected_clients.items():\n",
    "                    if client != websocket:\n",
    "                        await client.send(formatted_message)\n",
    "                print(formatted_message)\n",
    "\n",
    "    except websockets.ConnectionClosedError:\n",
    "        if websocket in connected_clients:\n",
    "            name = connected_clients.pop(websocket)\n",
    "            print(f\"Client '{name}' disconnected. Total clients: {len(connected_clients)}\")\n",
    "\n",
    "# start the WebSocket server\n",
    "start_server = websockets.serve(handle_message, \"localhost\", 8765, ping_interval=None, ping_timeout=None)\n",
    "\n",
    "# run the server\n",
    "print(\"Server connection is started...\")\n",
    "asyncio.get_event_loop().run_until_complete(start_server)\n",
    "asyncio.get_event_loop().run_forever()"
   ]
  }
 ],
 "metadata": {
  "kernelspec": {
   "display_name": "Python 3 (ipykernel)",
   "language": "python",
   "name": "python3"
  },
  "language_info": {
   "codemirror_mode": {
    "name": "ipython",
    "version": 3
   },
   "file_extension": ".py",
   "mimetype": "text/x-python",
   "name": "python",
   "nbconvert_exporter": "python",
   "pygments_lexer": "ipython3",
   "version": "3.10.9"
  }
 },
 "nbformat": 4,
 "nbformat_minor": 5
}
